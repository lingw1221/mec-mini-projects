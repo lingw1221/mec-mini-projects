{
 "cells": [
  {
   "cell_type": "code",
   "execution_count": 23,
   "id": "d5b75212",
   "metadata": {},
   "outputs": [],
   "source": [
    "    s=''\n",
    "    def romanToInt(s):\n",
    "        value = {\n",
    "            'I': 1,\n",
    "            'V': 5,\n",
    "            'X': 10, \n",
    "            'L': 50,\n",
    "            'C': 100,\n",
    "            'D': 500,\n",
    "            'M': 1000\n",
    "        }\n",
    "        res=0 \n",
    "        for i in range(len(s)):\n",
    "            if i+1 <len(s) and value[s[i]] < value[s[i+1]]:\n",
    "                res -= value[s[i]]\n",
    "            else:\n",
    "                res += value[s[i]]\n",
    "        return res\n",
    "   "
   ]
  },
  {
   "cell_type": "code",
   "execution_count": 24,
   "id": "5123d3f7",
   "metadata": {},
   "outputs": [
    {
     "data": {
      "text/plain": [
       "1111"
      ]
     },
     "execution_count": 24,
     "metadata": {},
     "output_type": "execute_result"
    }
   ],
   "source": [
    "s='MCXI'\n",
    "romanToInt(s)"
   ]
  },
  {
   "cell_type": "code",
   "execution_count": 25,
   "id": "614b14ee",
   "metadata": {},
   "outputs": [],
   "source": [
    "import pandas as pd \n"
   ]
  },
  {
   "cell_type": "code",
   "execution_count": 35,
   "id": "71a5da8d",
   "metadata": {},
   "outputs": [],
   "source": [
    "data = {'x': [1.1,2.8,3.4], 'y': [1.1,1.123,1.369]}\n",
    "df = pd.DataFrame(data)"
   ]
  },
  {
   "cell_type": "code",
   "execution_count": 38,
   "id": "a3a5e2d0",
   "metadata": {},
   "outputs": [],
   "source": [
    "for i in range(2,16): \n",
    "    colname = 'x_%d'%i \n",
    "    df[colname] = list(map(lambda x:pow(x,i),df['x']))\n"
   ]
  },
  {
   "cell_type": "code",
   "execution_count": 39,
   "id": "a65ce0ac",
   "metadata": {},
   "outputs": [
    {
     "data": {
      "text/html": [
       "<div>\n",
       "<style scoped>\n",
       "    .dataframe tbody tr th:only-of-type {\n",
       "        vertical-align: middle;\n",
       "    }\n",
       "\n",
       "    .dataframe tbody tr th {\n",
       "        vertical-align: top;\n",
       "    }\n",
       "\n",
       "    .dataframe thead th {\n",
       "        text-align: right;\n",
       "    }\n",
       "</style>\n",
       "<table border=\"1\" class=\"dataframe\">\n",
       "  <thead>\n",
       "    <tr style=\"text-align: right;\">\n",
       "      <th></th>\n",
       "      <th>x</th>\n",
       "      <th>y</th>\n",
       "      <th>x_2</th>\n",
       "      <th>x_3</th>\n",
       "      <th>x_4</th>\n",
       "      <th>x_5</th>\n",
       "      <th>x_6</th>\n",
       "      <th>x_7</th>\n",
       "      <th>x_8</th>\n",
       "      <th>x_9</th>\n",
       "      <th>x_10</th>\n",
       "      <th>x_11</th>\n",
       "      <th>x_12</th>\n",
       "      <th>x_13</th>\n",
       "      <th>x_14</th>\n",
       "      <th>x_15</th>\n",
       "    </tr>\n",
       "  </thead>\n",
       "  <tbody>\n",
       "    <tr>\n",
       "      <th>0</th>\n",
       "      <td>1.1</td>\n",
       "      <td>1.100</td>\n",
       "      <td>1.21</td>\n",
       "      <td>1.331</td>\n",
       "      <td>1.4641</td>\n",
       "      <td>1.61051</td>\n",
       "      <td>1.771561</td>\n",
       "      <td>1.948717</td>\n",
       "      <td>2.143589</td>\n",
       "      <td>2.357948</td>\n",
       "      <td>2.593742</td>\n",
       "      <td>2.853117</td>\n",
       "      <td>3.138428e+00</td>\n",
       "      <td>3.452271e+00</td>\n",
       "      <td>3.797498e+00</td>\n",
       "      <td>4.177248e+00</td>\n",
       "    </tr>\n",
       "    <tr>\n",
       "      <th>1</th>\n",
       "      <td>2.8</td>\n",
       "      <td>1.123</td>\n",
       "      <td>7.84</td>\n",
       "      <td>21.952</td>\n",
       "      <td>61.4656</td>\n",
       "      <td>172.10368</td>\n",
       "      <td>481.890304</td>\n",
       "      <td>1349.292851</td>\n",
       "      <td>3778.019983</td>\n",
       "      <td>10578.455953</td>\n",
       "      <td>29619.676670</td>\n",
       "      <td>82935.094675</td>\n",
       "      <td>2.322183e+05</td>\n",
       "      <td>6.502111e+05</td>\n",
       "      <td>1.820591e+06</td>\n",
       "      <td>5.097655e+06</td>\n",
       "    </tr>\n",
       "    <tr>\n",
       "      <th>2</th>\n",
       "      <td>3.4</td>\n",
       "      <td>1.369</td>\n",
       "      <td>11.56</td>\n",
       "      <td>39.304</td>\n",
       "      <td>133.6336</td>\n",
       "      <td>454.35424</td>\n",
       "      <td>1544.804416</td>\n",
       "      <td>5252.335014</td>\n",
       "      <td>17857.939049</td>\n",
       "      <td>60716.992766</td>\n",
       "      <td>206437.775406</td>\n",
       "      <td>701888.436380</td>\n",
       "      <td>2.386421e+06</td>\n",
       "      <td>8.113830e+06</td>\n",
       "      <td>2.758702e+07</td>\n",
       "      <td>9.379588e+07</td>\n",
       "    </tr>\n",
       "  </tbody>\n",
       "</table>\n",
       "</div>"
      ],
      "text/plain": [
       "     x      y    x_2     x_3       x_4        x_5          x_6          x_7  \\\n",
       "0  1.1  1.100   1.21   1.331    1.4641    1.61051     1.771561     1.948717   \n",
       "1  2.8  1.123   7.84  21.952   61.4656  172.10368   481.890304  1349.292851   \n",
       "2  3.4  1.369  11.56  39.304  133.6336  454.35424  1544.804416  5252.335014   \n",
       "\n",
       "            x_8           x_9           x_10           x_11          x_12  \\\n",
       "0      2.143589      2.357948       2.593742       2.853117  3.138428e+00   \n",
       "1   3778.019983  10578.455953   29619.676670   82935.094675  2.322183e+05   \n",
       "2  17857.939049  60716.992766  206437.775406  701888.436380  2.386421e+06   \n",
       "\n",
       "           x_13          x_14          x_15  \n",
       "0  3.452271e+00  3.797498e+00  4.177248e+00  \n",
       "1  6.502111e+05  1.820591e+06  5.097655e+06  \n",
       "2  8.113830e+06  2.758702e+07  9.379588e+07  "
      ]
     },
     "execution_count": 39,
     "metadata": {},
     "output_type": "execute_result"
    }
   ],
   "source": [
    "df.head()"
   ]
  },
  {
   "cell_type": "code",
   "execution_count": null,
   "id": "57f558e9",
   "metadata": {},
   "outputs": [],
   "source": []
  }
 ],
 "metadata": {
  "kernelspec": {
   "display_name": "Python 3",
   "language": "python",
   "name": "python3"
  },
  "language_info": {
   "codemirror_mode": {
    "name": "ipython",
    "version": 3
   },
   "file_extension": ".py",
   "mimetype": "text/x-python",
   "name": "python",
   "nbconvert_exporter": "python",
   "pygments_lexer": "ipython3",
   "version": "3.8.8"
  }
 },
 "nbformat": 4,
 "nbformat_minor": 5
}
